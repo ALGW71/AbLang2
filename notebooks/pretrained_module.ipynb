{
 "cells": [
  {
   "cell_type": "code",
   "execution_count": 1,
   "id": "7ae54cd0-6253-46dd-a316-4f20b12041e0",
   "metadata": {},
   "outputs": [],
   "source": [
    "%load_ext autoreload\n",
    "%autoreload 2\n",
    "\n",
    "import ablang"
   ]
  },
  {
   "cell_type": "code",
   "execution_count": 2,
   "id": "4194e235-9653-49a0-a2b8-118941574645",
   "metadata": {},
   "outputs": [],
   "source": [
    "model = ablang.pretrained(\"/vols/bitbucket/olsen/models/ABLANG-709/\")"
   ]
  },
  {
   "cell_type": "code",
   "execution_count": 25,
   "id": "99192978-a008-4a32-a80e-bba238e0ec7c",
   "metadata": {},
   "outputs": [],
   "source": [
    "seq1 = {\n",
    "    'H':'EVQLLESGGEVKKPGASVKVSCRASGYTFRNYGLTWVRQAPGQGLEWMGWISAYNGNTNYAQKFQGRVTLTTDTSTSTAYMELRSLRSDDTAVYFCARDVPGHGAAFMDVWGTGTTVTVSS',\n",
    "    'L':'DIQLTQSPLSLPVTLGQPASISCRSSQSLEASDTNIYLSWFQQRPGQSPRRLIYKISNRDSGVPDRFSGSGSGTHFTLRISRVEADDVAVYYCMQGTHWPPAFGQGTKVDIK'\n",
    "}\n",
    "seq2 = {\n",
    "    'H':'EVQLLGEVKKPGASVKVSCRASGYTFRNYGLTWVRQAPGQGLEWMGWISAYNGNTNYAQKFQGRVTLTTDTSTSTAYMELRSLRSDDTAVYFCARDVPGHGAAFMDVWGTGTTVTVSS',\n",
    "    'L':'DIQLTQSPLSLPVTLGQPASISCRSSQSLEASDTNIYLSWFQQRPGQSPRRLIYKISNRDSGVPDRFSGSGSGTHFTLRISRVEADDVAVYYCMQGTHWPPAFGQGTKVDIK'\n",
    "}\n",
    "seq3 = {\n",
    "    'H':'EVQLLGEVKKPGASVKVSCRASGYTFRNYGLTWVRQAPGQGLEWMGWISAYNGNTNYAQKFQGRVTLTTDTSTSTAYMELRSLRSDDTAVYFCARDVPGHGAAFMDVWGTGTTVTVSS',\n",
    "    }\n",
    "\n",
    "seqs = [seq1, seq2]"
   ]
  },
  {
   "cell_type": "code",
   "execution_count": 140,
   "id": "9577e3fe-043c-4430-b3cf-41b98eae8294",
   "metadata": {},
   "outputs": [
    {
     "data": {
      "text/plain": [
       "[aligned_results(aligned_embeds=array([[[-0.40741199254989624, -0.5118988752365112, 0.06096703186631203,\n",
       "          ..., 0.03920229896903038, -0.36715835332870483, '<'],\n",
       "         [-0.5768881440162659, 0.3824540078639984, -0.21792010962963104,\n",
       "          ..., -0.08844482898712158, -0.3236753046512604, 'E'],\n",
       "         [-0.14759314060211182, 0.3963906466960907, -0.38226985931396484,\n",
       "          ..., -0.41469550132751465, -0.0031935935840010643, 'V'],\n",
       "         ...,\n",
       "         [-0.1435835361480713, 0.3124387264251709, -0.3015800714492798,\n",
       "          ..., -0.4535340368747711, -0.07878872752189636, 'I'],\n",
       "         [0.17538957297801971, 0.24394312500953674, 0.2014114260673523,\n",
       "          ..., -0.3847905099391937, 0.07409171760082245, 'K'],\n",
       "         [-0.23031717538833618, -0.35487303137779236, 0.1960681825876236,\n",
       "          ..., 0.3110731840133667, -0.3265109062194824, '>']],\n",
       " \n",
       "        [[-0.28587281703948975, 0.10260795056819916, 0.48066675662994385,\n",
       "          ..., -0.25312963128089905, 0.03608778119087219, '<'],\n",
       "         [0.0, 0.0, 0.0, ..., 0.0, 0.0, '-'],\n",
       "         [0.0, 0.0, 0.0, ..., 0.0, 0.0, '-'],\n",
       "         ...,\n",
       "         [-0.13903331756591797, 0.31772705912590027, -0.2845049798488617,\n",
       "          ..., -0.49531352519989014, -0.09265292435884476, 'I'],\n",
       "         [0.17322981357574463, 0.22853709757328033, 0.23186689615249634,\n",
       "          ..., -0.3900890052318573, 0.07639827579259872, 'K'],\n",
       "         [-0.24421527981758118, -0.35787928104400635,\n",
       "          0.19769488275051117, ..., 0.3063107430934906,\n",
       "          -0.32153090834617615, '>']]], dtype=object), number_alignment=array(['<', '1 ', '2 ', '3 ', '4 ', '5 ', '6 ', '7 ', '8 ', '9 ', '11 ',\n",
       "        '12 ', '13 ', '14 ', '15 ', '16 ', '17 ', '18 ', '19 ', '20 ',\n",
       "        '21 ', '22 ', '23 ', '24 ', '25 ', '26 ', '27 ', '28 ', '29 ',\n",
       "        '30 ', '35 ', '36 ', '37 ', '38 ', '39 ', '40 ', '41 ', '42 ',\n",
       "        '43 ', '44 ', '45 ', '46 ', '47 ', '48 ', '49 ', '50 ', '51 ',\n",
       "        '52 ', '53 ', '54 ', '55 ', '56 ', '57 ', '58 ', '59 ', '62 ',\n",
       "        '63 ', '64 ', '65 ', '66 ', '67 ', '68 ', '69 ', '70 ', '71 ',\n",
       "        '72 ', '74 ', '75 ', '76 ', '77 ', '78 ', '79 ', '80 ', '81 ',\n",
       "        '82 ', '83 ', '84 ', '85 ', '86 ', '87 ', '88 ', '89 ', '90 ',\n",
       "        '91 ', '92 ', '93 ', '94 ', '95 ', '96 ', '97 ', '98 ', '99 ',\n",
       "        '100 ', '101 ', '102 ', '103 ', '104 ', '105 ', '106 ', '107 ',\n",
       "        '108 ', '109 ', '110 ', '111 ', '112A', '112 ', '113 ', '114 ',\n",
       "        '115 ', '116 ', '117 ', '118 ', '119 ', '120 ', '121 ', '122 ',\n",
       "        '123 ', '124 ', '125 ', '126 ', '127 ', '128 ', '>', '|', '<',\n",
       "        '1 ', '2 ', '3 ', '4 ', '5 ', '6 ', '7 ', '8 ', '9 ', '10 ', '11 ',\n",
       "        '12 ', '13 ', '14 ', '15 ', '16 ', '17 ', '18 ', '19 ', '20 ',\n",
       "        '21 ', '22 ', '23 ', '24 ', '25 ', '26 ', '27 ', '28 ', '29 ',\n",
       "        '30 ', '31 ', '32 ', '34 ', '35 ', '36 ', '37 ', '38 ', '39 ',\n",
       "        '40 ', '41 ', '42 ', '43 ', '44 ', '45 ', '46 ', '47 ', '48 ',\n",
       "        '49 ', '50 ', '51 ', '52 ', '53 ', '54 ', '55 ', '56 ', '57 ',\n",
       "        '65 ', '66 ', '67 ', '68 ', '69 ', '70 ', '71 ', '72 ', '74 ',\n",
       "        '75 ', '76 ', '77 ', '78 ', '79 ', '80 ', '83 ', '84 ', '85 ',\n",
       "        '86 ', '87 ', '88 ', '89 ', '90 ', '91 ', '92 ', '93 ', '94 ',\n",
       "        '95 ', '96 ', '97 ', '98 ', '99 ', '100 ', '101 ', '102 ', '103 ',\n",
       "        '104 ', '105 ', '106 ', '107 ', '108 ', '109 ', '114 ', '115 ',\n",
       "        '116 ', '117 ', '118 ', '119 ', '120 ', '121 ', '122 ', '123 ',\n",
       "        '124 ', '125 ', '126 ', '127 ', '>'], dtype=object))]"
      ]
     },
     "execution_count": 140,
     "metadata": {},
     "output_type": "execute_result"
    }
   ],
   "source": [
    "results = model(seqs, mode='rescoding', align=True)\n",
    "results"
   ]
  },
  {
   "cell_type": "code",
   "execution_count": 100,
   "id": "7c38ad64-2eac-4954-9cc5-8a8f7dda4c7e",
   "metadata": {},
   "outputs": [
    {
     "data": {
      "text/plain": [
       "233"
      ]
     },
     "execution_count": 100,
     "metadata": {},
     "output_type": "execute_result"
    }
   ],
   "source": [
    "len(seq1['H']) + len(seq1['L'])"
   ]
  },
  {
   "cell_type": "code",
   "execution_count": 101,
   "id": "642fd7d7-5040-45e2-b3b6-4768829f366a",
   "metadata": {},
   "outputs": [
    {
     "ename": "AttributeError",
     "evalue": "'aligned_results' object has no attribute 'shape'",
     "output_type": "error",
     "traceback": [
      "\u001b[0;31m---------------------------------------------------------------------------\u001b[0m",
      "\u001b[0;31mAttributeError\u001b[0m                            Traceback (most recent call last)",
      "Cell \u001b[0;32mIn[101], line 1\u001b[0m\n\u001b[0;32m----> 1\u001b[0m \u001b[43mresults\u001b[49m\u001b[43m[\u001b[49m\u001b[38;5;241;43m0\u001b[39;49m\u001b[43m]\u001b[49m\u001b[38;5;241;43m.\u001b[39;49m\u001b[43mshape\u001b[49m\n",
      "\u001b[0;31mAttributeError\u001b[0m: 'aligned_results' object has no attribute 'shape'"
     ]
    }
   ],
   "source": [
    "results[0].shape"
   ]
  },
  {
   "cell_type": "code",
   "execution_count": 141,
   "id": "cfe71cf4-17a4-4d59-a45b-3c55dd8fc9b8",
   "metadata": {},
   "outputs": [
    {
     "data": {
      "text/plain": [
       "(2, 238, 481)"
      ]
     },
     "execution_count": 141,
     "metadata": {},
     "output_type": "execute_result"
    }
   ],
   "source": [
    "results[0].aligned_embeds.shape"
   ]
  },
  {
   "cell_type": "code",
   "execution_count": 126,
   "id": "96f70072-2460-4e68-9ad9-4f0d60cfae5f",
   "metadata": {},
   "outputs": [
    {
     "data": {
      "text/plain": [
       "(238,)"
      ]
     },
     "execution_count": 126,
     "metadata": {},
     "output_type": "execute_result"
    }
   ],
   "source": [
    "results[0].number_alignment.shape"
   ]
  },
  {
   "cell_type": "code",
   "execution_count": null,
   "id": "3bf29f05-6a3e-4c5f-87e3-151f77658e29",
   "metadata": {},
   "outputs": [],
   "source": []
  },
  {
   "cell_type": "code",
   "execution_count": 139,
   "id": "eda8ad47-2dda-4297-9598-6dda62a91025",
   "metadata": {},
   "outputs": [
    {
     "data": {
      "text/plain": [
       "(2, 238, 481)"
      ]
     },
     "execution_count": 139,
     "metadata": {},
     "output_type": "execute_result"
    }
   ],
   "source": [
    "import numpy as np\n",
    "\n",
    "np.concatenate([results[0].aligned_embeds], axis=0).shape"
   ]
  },
  {
   "cell_type": "code",
   "execution_count": null,
   "id": "99c1b425-ba36-4374-8dae-82833e9cdd6e",
   "metadata": {},
   "outputs": [],
   "source": []
  }
 ],
 "metadata": {
  "kernelspec": {
   "display_name": "Python [conda env:ablang2-test]",
   "language": "python",
   "name": "conda-env-ablang2-test-py"
  },
  "language_info": {
   "codemirror_mode": {
    "name": "ipython",
    "version": 3
   },
   "file_extension": ".py",
   "mimetype": "text/x-python",
   "name": "python",
   "nbconvert_exporter": "python",
   "pygments_lexer": "ipython3",
   "version": "3.9.0"
  }
 },
 "nbformat": 4,
 "nbformat_minor": 5
}
