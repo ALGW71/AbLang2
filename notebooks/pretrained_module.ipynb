{
 "cells": [
  {
   "cell_type": "code",
   "execution_count": 1,
   "id": "7ae54cd0-6253-46dd-a316-4f20b12041e0",
   "metadata": {},
   "outputs": [],
   "source": [
    "%load_ext autoreload\n",
    "%autoreload 2\n",
    "\n",
    "import numpy as np\n",
    "import torch\n",
    "import ablang2"
   ]
  },
  {
   "cell_type": "code",
   "execution_count": 2,
   "id": "99192978-a008-4a32-a80e-bba238e0ec7c",
   "metadata": {},
   "outputs": [],
   "source": [
    "seq1 = [\n",
    "    'EVQLLESGGEVKKPGASVKVSCRASGYTFRNYGLTWVRQAPGQGLEWMGWISAYNGNTNYAQKFQGRVTLTTDTSTSTAYMELRSLRSDDTAVYFCARDVPGHGAAFMDVWGTGTTVTVSS',\n",
    "    'DIQLTQSPLSLPVTLGQPASISCRSSQSLEASDTNIYLSWFQQRPGQSPRRLIYKISNRDSGVPDRFSGSGSGTHFTLRISRVEADDVAVYYCMQGTHWPPAFGQGTKVDIK'\n",
    "]\n",
    "seq2 = [\n",
    "    'EVQLLESGGEVKKPGASVKVSCRASGYTFRNYGLTWVRQAPGQGLEWMGWISAYNGNTNYAQKFQGRVTLTTDTSTSTAYMELRSLRSDDTAVYFCARDVPGHGAAFMDVWGTGTT',\n",
    "    'PVTLGQPASISCRSSQSLEASDTNIYLSWFQQRPGQSPRRLIYKISNRDSGVPDRFSGSGSGTHFTLRISRVEADDVAVYYCMQGTHWPPAFGQGTKVDIK'\n",
    "]\n",
    "seq3 = [\n",
    "    'EVQLLESGGEVKKPGASVKVSCRASGYTFRNYGLTWVRQAPGQGLEWMGWISAYNGNTNYAQKFQGRVTLTTDTSTSTAYMELRSLRSDDTAVYFCARDVPGHGAAFMDVWGTGTTVTVSS',\n",
    "    ''\n",
    "]\n",
    "seq4 = [\n",
    "    '',\n",
    "    'DIQLTQSPLSLPVTLGQPASISCRSSQSLEASDTNIYLSWFQQRPGQSPRRLIYKISNRDSGVPDRFSGSGSGTHFTLRISRVEADDVAVYYCMQGTHWPPAFGQGTKVDIK'\n",
    "]\n",
    "seq5 = [\n",
    "    'EVQ***SGGEVKKPGASVKVSCRASGYTFRNYGLTWVRQAPGQGLEWMGWISAYNGNTNYAQKFQGRVTLTTDTSTSTAYMELRSLRSDDTAVYFCAR**PGHGAAFMDVWGTGTTVTVSS',\n",
    "    'DIQLTQSPLSLPVTLGQPASISCRSS*SLEASDTNIYLSWFQQRPGQSPRRLIYKI*NRDSGVPDRFSGSGSGTHFTLRISRVEADDVAVYYCMQGTHWPPAFGQGTKVDIK'\n",
    "]\n",
    "\n",
    "all_seqs = [seq1, seq2, seq3, seq4, seq5]\n",
    "only_both_chains_seqs = [seq1, seq2, seq5]"
   ]
  },
  {
   "cell_type": "markdown",
   "id": "dffbacfa-8642-4d94-9572-2205a05c18f9",
   "metadata": {},
   "source": [
    "# **1. How to use AbLang2**\n",
    "\n",
    "AbLang2 can be downloaded and used in its raw form as seen below. For convenience, we have also developed different \"modes\" which can be used for specific use cases (see Section 2) "
   ]
  },
  {
   "cell_type": "code",
   "execution_count": 21,
   "id": "0e7419e4-db22-49ea-8e12-6db2b3681545",
   "metadata": {},
   "outputs": [],
   "source": [
    "# Download and initialise the model\n",
    "ablang = ablang2.pretrained(model_to_use='ablang2-paired', random_init=False, ncpu=1, device='cpu')\n",
    "\n",
    "# Tokenize input sequences\n",
    "seq = f\"{seq1[0]}|{seq1[1]}\"\n",
    "tokenized_seq = ablang.tokenizer([seq], pad=True, w_extra_tkns=False, device=\"cpu\")\n",
    "        \n",
    "# Generate rescodings\n",
    "with torch.no_grad():\n",
    "    rescoding = ablang.AbRep(tokenized_seq).last_hidden_states\n",
    "\n",
    "# Generate logits/likelihoods\n",
    "with torch.no_grad():\n",
    "    likelihoods = ablang.AbLang(tokenized_seq)"
   ]
  },
  {
   "cell_type": "markdown",
   "id": "48562761-6ebe-4025-be97-918c9f9eff7e",
   "metadata": {},
   "source": [
    "# **2. Different modes for specific usecases**\n",
    "\n",
    "AbLang2 has already been implemented for a variety of different usecases. The benefit of these modes is that they handle extra tokens such as start, stop and separation tokens.\n",
    "\n",
    "1. seqcoding: Generates sequence representations for each sequence\n",
    "2. rescoding: Generates residue representations for each residue in each sequence\n",
    "3. likelihood: Generates likelihoods for each amino acid at each position in each sequence\n",
    "4. probability: Generates probabilities for each amino acid at each position in each sequence\n",
    "5. pseudo_log_likelihood: Returns the pseudo log likelihood for a sequence (based on masking each residue one at a time)\n",
    "6. confidence: Returns a fast calculation of the log likelihood for a sequence (based on a single pass with no masking)\n",
    "7. restore: Restores masked residues\n",
    "\n",
    "### **AbLang2 can also align the resulting representations using ANARCI**\n",
    "\n",
    "This can be done for 'rescoding', 'likelihood', and 'probability'. This is done by setting the argument \"align=True\".\n",
    "\n",
    "**NB**: Align can only be used on input with the same format, i.e. either all heavy, all light, or all both heavy and light.\n",
    "\n",
    "### **The align argument can also be used to restore variable missing lengths**\n",
    "\n",
    "For this, use \"align=True\" with the 'restore' mode."
   ]
  },
  {
   "cell_type": "code",
   "execution_count": 4,
   "id": "ceae4a88-0679-4704-8bad-c06a4569c497",
   "metadata": {},
   "outputs": [],
   "source": [
    "ablang = ablang2.pretrained()\n",
    "\n",
    "valid_modes = [\n",
    "    'seqcoding', 'rescoding', 'likelihood', 'probability',\n",
    "    'pseudo_log_likelihood', 'confidence', 'restore' \n",
    "]"
   ]
  },
  {
   "cell_type": "markdown",
   "id": "aa333732-7508-4826-92ec-3acdd54bc1bb",
   "metadata": {},
   "source": [
    "## **seqcoding** \n",
    "\n",
    "The seqcodings represents each sequence as a 480 sized embedding. It is derived from averaging across each rescoding embedding for a given sequence, excluding any extra tokens. "
   ]
  },
  {
   "cell_type": "code",
   "execution_count": 5,
   "id": "d22f4302-1262-4cc1-8a1c-a36daa8c710c",
   "metadata": {},
   "outputs": [
    {
     "data": {
      "text/plain": [
       "array([[ 0.74964871,  1.1840472 ,  1.00861522, ...,  1.15228194,\n",
       "         0.85474925,  0.86772948],\n",
       "       [-0.2517527 ,  0.21268045,  0.0752421 , ...,  0.18923415,\n",
       "        -0.15258079, -0.08107855],\n",
       "       [-0.27464662,  0.16865194,  0.08387676, ...,  0.18583655,\n",
       "        -0.14459687, -0.16536156],\n",
       "       [-0.19567645,  0.16862158, -0.04988689, ...,  0.10978557,\n",
       "        -0.14783345, -0.10016351],\n",
       "       [ 0.70623552,  1.17424116,  1.05676274, ...,  1.15829591,\n",
       "         0.83368663,  0.84597218]])"
      ]
     },
     "execution_count": 5,
     "metadata": {},
     "output_type": "execute_result"
    }
   ],
   "source": [
    "ablang(all_seqs, mode='seqcoding')"
   ]
  },
  {
   "cell_type": "markdown",
   "id": "ac98c317-e085-4d94-9729-bbae039f49ac",
   "metadata": {},
   "source": [
    "## **rescoding / likelihood / probability**\n",
    "\n",
    "The rescodings represents each residue as a 480 sized embedding. The likelihoods represents each residue as the predicted logits for each character in the vocabulary. The probabilities represents the normalised likelihoods."
   ]
  },
  {
   "cell_type": "code",
   "execution_count": 6,
   "id": "6227f661-575f-4b1e-9646-cfba7b10c3b4",
   "metadata": {},
   "outputs": [
    {
     "data": {
      "text/plain": [
       "[array([[-0.5768882 ,  0.38245377, -0.21792021, ...,  0.01250281,\n",
       "         -0.08844489, -0.32367533],\n",
       "        [-0.14759329,  0.39639032, -0.38226995, ..., -0.10119925,\n",
       "         -0.41469547, -0.00319326],\n",
       "        [-0.15368716,  0.16587661, -0.30081886, ...,  0.02159324,\n",
       "         -0.2850579 , -0.12827396],\n",
       "        ...,\n",
       "        [-0.1435836 ,  0.31243888, -0.30157977, ..., -0.13289277,\n",
       "         -0.45353436, -0.07878845],\n",
       "        [ 0.17538942,  0.24394313,  0.20141156, ...,  0.14587337,\n",
       "         -0.38479012,  0.07409145],\n",
       "        [-0.23031712, -0.354873  ,  0.19606796, ..., -0.12833637,\n",
       "          0.3110731 , -0.3265107 ]], dtype=float32),\n",
       " array([[-0.50541353,  0.38347134, -0.10992067, ..., -0.05231511,\n",
       "         -0.13636601, -0.34830102],\n",
       "        [-0.06784626,  0.69349885, -0.4212396 , ..., -0.24805343,\n",
       "         -0.39583787, -0.10972748],\n",
       "        [-0.07713673,  0.31808612, -0.24827132, ...,  0.05780765,\n",
       "         -0.24981117, -0.23789679],\n",
       "        ...,\n",
       "        [ 0.19134362,  0.21744648,  0.25758275, ...,  0.1584544 ,\n",
       "         -0.3474367 ,  0.10218269],\n",
       "        [-0.25511587, -0.21778467,  0.21906386, ..., -0.09656096,\n",
       "          0.22394848, -0.20267344],\n",
       "        [-0.4772288 ,  0.52912897,  0.11928673, ..., -0.8414352 ,\n",
       "         -0.02904468, -0.06637286]], dtype=float32),\n",
       " array([[-0.5457607 ,  0.43129578, -0.34514865, ..., -0.09285577,\n",
       "          0.03116523, -0.45269734],\n",
       "        [ 0.0221168 ,  0.5319657 , -0.30137247, ..., -0.18890701,\n",
       "         -0.3258736 ,  0.05078411],\n",
       "        [-0.07874423,  0.16243936, -0.2903941 , ...,  0.02345191,\n",
       "         -0.31371006, -0.19574091],\n",
       "        ...,\n",
       "        [-0.13752194,  0.28678605, -0.18887033, ...,  0.28262642,\n",
       "          0.12546761, -0.6496488 ],\n",
       "        [-0.45414186,  0.24564977,  0.2132736 , ...,  0.03287451,\n",
       "          0.03825564, -0.3425912 ],\n",
       "        [-0.39511243, -0.04208655, -0.25788373, ...,  0.15055583,\n",
       "         -0.30333716, -0.59137535]], dtype=float32),\n",
       " array([[-0.21654248, -0.38562426, -0.02696253, ...,  0.20541485,\n",
       "          0.18698384, -0.22639509],\n",
       "        [-0.41950503,  0.04743315,  0.00488149, ...,  0.11408655,\n",
       "         -0.05384672,  0.10258742],\n",
       "        [ 0.15065362,  0.7766415 , -1.052598  , ..., -0.38552707,\n",
       "         -0.5215688 , -0.3964959 ],\n",
       "        ...,\n",
       "        [ 0.2049191 ,  0.36294493,  0.19217433, ...,  0.07750694,\n",
       "         -0.50392145,  0.03793862],\n",
       "        [-0.11638469, -0.35350844,  0.13215733, ..., -0.16060586,\n",
       "          0.2391388 , -0.25653362],\n",
       "        [ 0.02402249,  0.34682912,  0.0359624 , ..., -0.4453078 ,\n",
       "          0.11451249, -0.35364237]], dtype=float32),\n",
       " array([[-0.5731807 ,  0.52588975, -0.1700168 , ..., -0.23864639,\n",
       "          0.20880571, -0.5787758 ],\n",
       "        [-0.38988566,  0.46168268, -0.34294134, ..., -0.14872617,\n",
       "         -0.4657687 , -0.21225002],\n",
       "        [-0.22156328,  0.09323011, -0.33073553, ..., -0.01207492,\n",
       "         -0.15538831, -0.10511622],\n",
       "        ...,\n",
       "        [-0.21528657,  0.3004676 , -0.2521646 , ..., -0.11576824,\n",
       "         -0.4704909 , -0.07401361],\n",
       "        [ 0.06330815,  0.22700705,  0.2818417 , ...,  0.15967268,\n",
       "         -0.3771821 ,  0.06188553],\n",
       "        [-0.2782629 , -0.3729748 ,  0.21229891, ..., -0.14886044,\n",
       "          0.24998347, -0.35954222]], dtype=float32)]"
      ]
     },
     "execution_count": 6,
     "metadata": {},
     "output_type": "execute_result"
    }
   ],
   "source": [
    "ablang(all_seqs, mode='rescoding')"
   ]
  },
  {
   "cell_type": "markdown",
   "id": "6da2183b-4306-49bd-a7fc-23e78a23f305",
   "metadata": {},
   "source": [
    "## **Align rescoding/likelihood/probability output**\n",
    "\n",
    "For the 'rescoding', 'likelihood', and 'probability' modes, the output can also be aligned using the argument \"align=True\".\n",
    "\n",
    "This is done using the antibody numbering tool ANARCI, and requires manually installing **Pandas** and **[ANARCI](https://github.com/oxpig/ANARCI)**.\n",
    "\n",
    "**NB**: Align can only be used on input with the same format, i.e. either all heavy, all light, or all both heavy and light."
   ]
  },
  {
   "cell_type": "code",
   "execution_count": 7,
   "id": "e4bc0cb1-f5b0-4255-9e93-d643ae1396df",
   "metadata": {},
   "outputs": [
    {
     "name": "stdout",
     "output_type": "stream",
     "text": [
      "['<' '1 ' '2 ' '3 ' '4 ' '5 ' '6 ' '7 ' '8 ' '9 ' '11 ' '12 ' '13 ' '14 '\n",
      " '15 ' '16 ' '17 ' '18 ' '19 ' '20 ' '21 ' '22 ' '23 ' '24 ' '25 ' '26 '\n",
      " '27 ' '28 ' '29 ' '30 ' '35 ' '36 ' '37 ' '38 ' '39 ' '40 ' '41 ' '42 '\n",
      " '43 ' '44 ' '45 ' '46 ' '47 ' '48 ' '49 ' '50 ' '51 ' '52 ' '53 ' '54 '\n",
      " '55 ' '56 ' '57 ' '58 ' '59 ' '62 ' '63 ' '64 ' '65 ' '66 ' '67 ' '68 '\n",
      " '69 ' '70 ' '71 ' '72 ' '74 ' '75 ' '76 ' '77 ' '78 ' '79 ' '80 ' '81 '\n",
      " '82 ' '83 ' '84 ' '85 ' '86 ' '87 ' '88 ' '89 ' '90 ' '91 ' '92 ' '93 '\n",
      " '94 ' '95 ' '96 ' '97 ' '98 ' '99 ' '100 ' '101 ' '102 ' '103 ' '104 '\n",
      " '105 ' '106 ' '107 ' '108 ' '109 ' '110 ' '111 ' '112A' '112 ' '113 '\n",
      " '114 ' '115 ' '116 ' '117 ' '118 ' '119 ' '120 ' '121 ' '122 ' '123 '\n",
      " '124 ' '125 ' '126 ' '127 ' '128 ' '>' '|' '<' '1 ' '2 ' '3 ' '4 ' '5 '\n",
      " '6 ' '7 ' '8 ' '9 ' '10 ' '11 ' '12 ' '13 ' '14 ' '15 ' '16 ' '17 ' '18 '\n",
      " '19 ' '20 ' '21 ' '22 ' '23 ' '24 ' '25 ' '26 ' '27 ' '28 ' '29 ' '30 '\n",
      " '31 ' '32 ' '34 ' '35 ' '36 ' '37 ' '38 ' '39 ' '40 ' '41 ' '42 ' '43 '\n",
      " '44 ' '45 ' '46 ' '47 ' '48 ' '49 ' '50 ' '51 ' '52 ' '53 ' '54 ' '55 '\n",
      " '56 ' '57 ' '64 ' '65 ' '66 ' '67 ' '68 ' '69 ' '70 ' '71 ' '72 ' '74 '\n",
      " '75 ' '76 ' '77 ' '78 ' '79 ' '80 ' '83 ' '84 ' '85 ' '86 ' '87 ' '88 '\n",
      " '89 ' '90 ' '91 ' '92 ' '93 ' '94 ' '95 ' '96 ' '97 ' '98 ' '99 ' '100 '\n",
      " '101 ' '102 ' '103 ' '104 ' '105 ' '106 ' '107 ' '108 ' '109 ' '114 '\n",
      " '115 ' '116 ' '117 ' '118 ' '119 ' '120 ' '121 ' '122 ' '123 ' '124 '\n",
      " '125 ' '126 ' '127 ' '>']\n",
      "['<EVQLLESGGEVKKPGASVKVSCRASGYTFRNYGLTWVRQAPGQGLEWMGWISAYNGNTNYAQKFQGRVTLTTDTSTSTAYMELRSLRSDDTAVYFCARDVPGHGAAFMDVWGTGTTVTVSS>|<DIQLTQSPLSLPVTLGQPASISCRSSQSLEASDTNIYLSWFQQRPGQSPRRLIYKI-SNRDSGVPDRFSGSGSGTHFTLRISRVEADDVAVYYCMQGTHWPPAFGQGTKVDIK>', '<EVQLLESGGEVKKPGASVKVSCRASGYTFRNYGLTWVRQAPGQGLEWMGWISAYNGNTNYAQKFQGRVTLTTDTSTSTAYMELRSLRSDDTAVYFCARDVPGHGAAFMDVWGTGTT----->|<-----------PVTLGQPASISCRSSQSLEASDTNIYLSWFQQRPGQSPRRLIYKI-SNRDSGVPDRFSGSGSGTHFTLRISRVEADDVAVYYCMQGTHWPPAFGQGTKVDIK>', '<------SGGEVKKPGASVKVSCRASGYTFRNYGLTWVRQAPGQGLEWMGWISAYNGNTNYAQKFQGRVTLTTDTSTSTAYMELRSLRSDDTAVYFCAR**PGHGAAFMDVWGTGTTVTVSS>|<DIQLTQSPLSLPVTLGQPASISCRSS*SLEASDTNIYLSWFQQRPGQSPRRLIYKI*N-RDSGVPDRFSGSGSGTHFTLRISRVEADDVAVYYCMQGTHWPPAFGQGTKVDIK>']\n"
     ]
    },
    {
     "data": {
      "text/plain": [
       "array([[[  9.31621552,  -3.42184424,  -3.59398293, ..., -14.73707485,\n",
       "          -6.8935895 ,  -0.23662716],\n",
       "        [ -3.54718328,  -5.8486681 ,  -4.02423763, ..., -12.9396677 ,\n",
       "          -9.56145287,  -4.48474121],\n",
       "        [-11.94997597,  -2.2455442 ,  -5.69481659, ..., -15.1963892 ,\n",
       "         -17.97455025, -12.56952667],\n",
       "        ...,\n",
       "        [ -8.94505119,  -0.42261413,  -4.95588017, ..., -16.66817665,\n",
       "         -15.22247696, -10.37267685],\n",
       "        [-11.65150261,  -5.44477367,  -2.95585799, ..., -16.25555801,\n",
       "          -9.75158882, -11.75897026],\n",
       "        [  1.79469967,  -1.95846725,  -3.59784651, ..., -14.95585823,\n",
       "          -7.47080421,  -0.95226705]],\n",
       "\n",
       "       [[  8.55518723,  -3.83663583,  -2.33596039, ..., -13.87456799,\n",
       "          -8.14840603,  -0.42472461],\n",
       "        [ -4.4070158 ,  -5.53201628,  -3.69397473, ..., -12.97877884,\n",
       "          -9.86258984,  -4.95414734],\n",
       "        [-11.95642948,  -3.86210847,  -5.80935097, ..., -14.89213085,\n",
       "         -16.94556236, -11.36959457],\n",
       "        ...,\n",
       "        [ -7.75924206,  -0.66524088,  -4.08643246, ..., -16.16580582,\n",
       "         -14.76506901,  -8.35070801],\n",
       "        [-11.91039467,  -4.86995649,  -2.74777317, ..., -16.07694817,\n",
       "          -8.44974518, -10.45223522],\n",
       "        [  0.86006927,  -2.37964129,  -3.58130884, ..., -15.35423565,\n",
       "          -7.7303524 ,  -1.11989462]],\n",
       "\n",
       "       [[ -4.37903118,  -7.55587101,   1.21958244, ..., -15.48622799,\n",
       "          -6.02184772,  -3.7964797 ],\n",
       "        [  0.        ,   0.        ,   0.        , ...,   0.        ,\n",
       "           0.        ,   0.        ],\n",
       "        [  0.        ,   0.        ,   0.        , ...,   0.        ,\n",
       "           0.        ,   0.        ],\n",
       "        ...,\n",
       "        [ -8.94207573,  -0.51090133,  -5.09760666, ..., -16.69521904,\n",
       "         -15.45450687, -10.50823021],\n",
       "        [-11.92355251,  -5.55152798,  -2.87667084, ..., -16.40608025,\n",
       "         -10.19431782, -12.13288021],\n",
       "        [  2.42199802,  -2.01573205,  -3.61701035, ..., -14.9590435 ,\n",
       "          -7.19029284,  -0.89830101]]])"
      ]
     },
     "execution_count": 7,
     "metadata": {},
     "output_type": "execute_result"
    }
   ],
   "source": [
    "results = ablang(only_both_chains_seqs, mode='likelihood', align=True)\n",
    "\n",
    "print(results.number_alignment)\n",
    "print(results.aligned_seqs)\n",
    "print(results.aligned_embeds)"
   ]
  },
  {
   "cell_type": "markdown",
   "id": "8f0a71ec-e916-4330-90d0-13a4b1121a89",
   "metadata": {},
   "source": [
    "## **pseudo_log_likelihood / confidence**\n",
    "\n",
    "The pseudo_log_likelihood and confidence represents two methods for calculating an uncertainty for the input sequence."
   ]
  },
  {
   "cell_type": "code",
   "execution_count": 8,
   "id": "83f3064b-48a7-42fb-ba82-ec153ea946da",
   "metadata": {},
   "outputs": [
    {
     "data": {
      "text/plain": [
       "array([1.995193 , 2.017602 , 2.1375413, 1.8546418, 2.0021744],\n",
       "      dtype=float32)"
      ]
     },
     "execution_count": 8,
     "metadata": {},
     "output_type": "execute_result"
    }
   ],
   "source": [
    "results = ablang(all_seqs, mode='pseudo_log_likelihood')\n",
    "np.exp(-results) # convert to pseudo perplexity"
   ]
  },
  {
   "cell_type": "code",
   "execution_count": 9,
   "id": "42cc8b34-5ae9-4857-93fe-a438a0f2a868",
   "metadata": {},
   "outputs": [
    {
     "data": {
      "text/plain": [
       "array([1.2699332, 1.1272193, 1.3212233, 1.2203734, 1.1848254],\n",
       "      dtype=float32)"
      ]
     },
     "execution_count": 9,
     "metadata": {},
     "output_type": "execute_result"
    }
   ],
   "source": [
    "results = ablang(all_seqs, mode='confidence')\n",
    "np.exp(-results)"
   ]
  },
  {
   "cell_type": "markdown",
   "id": "e0b63e48-b2a1-4a8e-8ecb-449748a2cb25",
   "metadata": {},
   "source": [
    "## **restore**\n",
    "\n",
    "This mode can be used to restore masked residues, and fragmented regions with \"align=True\". "
   ]
  },
  {
   "cell_type": "code",
   "execution_count": 10,
   "id": "2d5b725c-4eac-4a4b-9331-357c3ac140f7",
   "metadata": {},
   "outputs": [
    {
     "data": {
      "text/plain": [
       "array(['<EVQLLESGGEVKKPGASVKVSCRASGYTFRNYGLTWVRQAPGQGLEWMGWISAYNGNTNYAQKFQGRVTLTTDTSTSTAYMELRSLRSDDTAVYFCARDVPGHGAAFMDVWGTGTTVTVSS>|<DIQLTQSPLSLPVTLGQPASISCRSSQSLEASDTNIYLSWFQQRPGQSPRRLIYKISNRDSGVPDRFSGSGSGTHFTLRISRVEADDVAVYYCMQGTHWPPAFGQGTKVDIK>',\n",
       "       '<EVQLLESGGEVKKPGASVKVSCRASGYTFRNYGLTWVRQAPGQGLEWMGWISAYNGNTNYAQKFQGRVTLTTDTSTSTAYMELRSLRSDDTAVYFCARDVPGHGAAFMDVWGTGTT>|<PVTLGQPASISCRSSQSLEASDTNIYLSWFQQRPGQSPRRLIYKISNRDSGVPDRFSGSGSGTHFTLRISRVEADDVAVYYCMQGTHWPPAFGQGTKVDIK>',\n",
       "       '<EVQLVQSGGEVKKPGASVKVSCRASGYTFRNYGLTWVRQAPGQGLEWMGWISAYNGNTNYAQKFQGRVTLTTDTSTSTAYMELRSLRSDDTAVYFCARDPPGHGAAFMDVWGTGTTVTVSS>|<DIQLTQSPLSLPVTLGQPASISCRSSQSLEASDTNIYLSWFQQRPGQSPRRLIYKISNRDSGVPDRFSGSGSGTHFTLRISRVEADDVAVYYCMQGTHWPPAFGQGTKVDIK>'],\n",
       "      dtype='<U238')"
      ]
     },
     "execution_count": 10,
     "metadata": {},
     "output_type": "execute_result"
    }
   ],
   "source": [
    "restored = ablang(only_both_chains_seqs, mode='restore')\n",
    "restored"
   ]
  },
  {
   "cell_type": "code",
   "execution_count": 11,
   "id": "0e9615f7-c490-4947-96f4-7617266c686e",
   "metadata": {},
   "outputs": [
    {
     "data": {
      "text/plain": [
       "array(['<EVQLLESGGEVKKPGASVKVSCRASGYTFRNYGLTWVRQAPGQGLEWMGWISAYNGNTNYAQKFQGRVTLTTDTSTSTAYMELRSLRSDDTAVYFCARDVPGHGAAFMDVWGTGTTVTVSS>|<DIQLTQSPLSLPVTLGQPASISCRSSQSLEASDTNIYLSWFQQRPGQSPRRLIYKISNRDSGVPDRFSGSGSGTHFTLRISRVEADDVAVYYCMQGTHWPPAFGQGTKVDIK>',\n",
       "       '<EVQLLESGGEVKKPGASVKVSCRASGYTFRNYGLTWVRQAPGQGLEWMGWISAYNGNTNYAQKFQGRVTLTTDTSTSTAYMELRSLRSDDTAVYFCARDVPGHGAAFMDVWGTGTTVTVSS>|<DVVMTQSPLSLPVTLGQPASISCRSSQSLEASDTNIYLSWFQQRPGQSPRRLIYKISNRDSGVPDRFSGSGSGTHFTLRISRVEADDVAVYYCMQGTHWPPAFGQGTKVDIK>',\n",
       "       '<QVQLVQSGGEVKKPGASVKVSCRASGYTFRNYGLTWVRQAPGQGLEWMGWISAYNGNTNYAQKFQGRVTLTTDTSTSTAYMELRSLRSDDTAVYFCARDPPGHGAAFMDVWGTGTTVTVSS>|<DIQLTQSPLSLPVTLGQPASISCRSSQSLEASDTNIYLSWFQQRPGQSPRRLIYKISNRDSGVPDRFSGSGSGTHFTLRISRVEADDVAVYYCMQGTHWPPAFGQGTKVDIK>'],\n",
       "      dtype='<U238')"
      ]
     },
     "execution_count": 11,
     "metadata": {},
     "output_type": "execute_result"
    }
   ],
   "source": [
    "restored = ablang(only_both_chains_seqs, mode='restore', align = True) ## This doesn't work yet\n",
    "restored"
   ]
  }
 ],
 "metadata": {
  "kernelspec": {
   "display_name": "Python [conda env:ablang2_tmp]",
   "language": "python",
   "name": "conda-env-ablang2_tmp-py"
  },
  "language_info": {
   "codemirror_mode": {
    "name": "ipython",
    "version": 3
   },
   "file_extension": ".py",
   "mimetype": "text/x-python",
   "name": "python",
   "nbconvert_exporter": "python",
   "pygments_lexer": "ipython3",
   "version": "3.11.7"
  }
 },
 "nbformat": 4,
 "nbformat_minor": 5
}
