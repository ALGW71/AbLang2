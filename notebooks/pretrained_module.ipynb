{
 "cells": [
  {
   "cell_type": "code",
   "execution_count": null,
   "id": "7ae54cd0-6253-46dd-a316-4f20b12041e0",
   "metadata": {},
   "outputs": [],
   "source": [
    "%load_ext autoreload\n",
    "%autoreload 2\n",
    "\n",
    "import numpy as np\n",
    "import torch\n",
    "import ablang2"
   ]
  },
  {
   "cell_type": "markdown",
   "id": "10801511-770d-46ac-a15d-a02d4ef9ec87",
   "metadata": {},
   "source": [
    "# **0. Sequence input and its format**\n",
    "\n",
    "AbLang2 takes as input either the individual heavy variable domain (VH), light variable domain (VL), or the full variable domain (Fv).\n",
    "\n",
    "Each record (antibody) needs to be a list with the VH as the first element and the VL as the second. If either the VH or VL is not known, leave an empty string.\n",
    "\n",
    "An asterisk (\\*) is used for masking. It is recommended to mask residues which you are interested in mutating.\n",
    "\n",
    "**NB:** It is important that the VH and VL sequence is ordered correctly."
   ]
  },
  {
   "cell_type": "code",
   "execution_count": null,
   "id": "99192978-a008-4a32-a80e-bba238e0ec7c",
   "metadata": {},
   "outputs": [],
   "source": [
    "seq1 = [\n",
    "    'EVQLLESGGEVKKPGASVKVSCRASGYTFRNYGLTWVRQAPGQGLEWMGWISAYNGNTNYAQKFQGRVTLTTDTSTSTAYMELRSLRSDDTAVYFCARDVPGHGAAFMDVWGTGTTVTVSS', # VH sequence\n",
    "    'DIQLTQSPLSLPVTLGQPASISCRSSQSLEASDTNIYLSWFQQRPGQSPRRLIYKISNRDSGVPDRFSGSGSGTHFTLRISRVEADDVAVYYCMQGTHWPPAFGQGTKVDIK' # VL sequence\n",
    "]\n",
    "seq2 = [\n",
    "    'EVQLLESGGEVKKPGASVKVSCRASGYTFRNYGLTWVRQAPGQGLEWMGWISAYNGNTNYAQKFQGRVTLTTDTSTSTAYMELRSLRSDDTAVYFCARDVPGHGAAFMDVWGTGTT',\n",
    "    'PVTLGQPASISCRSSQSLEASDTNIYLSWFQQRPGQSPRRLIYKISNRDSGVPDRFSGSGSGTHFTLRISRVEADDVAVYYCMQGTHWPPAFGQGTKVDIK'\n",
    "]\n",
    "seq3 = [\n",
    "    'EVQLLESGGEVKKPGASVKVSCRASGYTFRNYGLTWVRQAPGQGLEWMGWISAYNGNTNYAQKFQGRVTLTTDTSTSTAYMELRSLRSDDTAVYFCARDVPGHGAAFMDVWGTGTTVTVSS',\n",
    "    '' # The VL sequence is not known, so an empty string is left instead. \n",
    "]\n",
    "seq4 = [\n",
    "    '',\n",
    "    'DIQLTQSPLSLPVTLGQPASISCRSSQSLEASDTNIYLSWFQQRPGQSPRRLIYKISNRDSGVPDRFSGSGSGTHFTLRISRVEADDVAVYYCMQGTHWPPAFGQGTKVDIK'\n",
    "]\n",
    "seq5 = [\n",
    "    'EVQ***SGGEVKKPGASVKVSCRASGYTFRNYGLTWVRQAPGQGLEWMGWISAYNGNTNYAQKFQGRVTLTTDTSTSTAYMELRSLRSDDTAVYFCAR**PGHGAAFMDVWGTGTTVTVSS', # (*) is used to mask certain residues\n",
    "    'DIQLTQSPLSLPVTLGQPASISCRSS*SLEASDTNIYLSWFQQRPGQSPRRLIYKI*NRDSGVPDRFSGSGSGTHFTLRISRVEADDVAVYYCMQGTHWPPAFGQGTKVDIK'\n",
    "]\n",
    "\n",
    "all_seqs = [seq1, seq2, seq3, seq4, seq5]\n",
    "only_both_chains_seqs = [seq1, seq2, seq5]"
   ]
  },
  {
   "cell_type": "markdown",
   "id": "dffbacfa-8642-4d94-9572-2205a05c18f9",
   "metadata": {},
   "source": [
    "# **1. How to use AbLang2**\n",
    "\n",
    "AbLang2 can be downloaded and used in its raw form as seen below. For convenience, we have also developed different \"modes\" which can be used for specific use cases (see Section 2) "
   ]
  },
  {
   "cell_type": "code",
   "execution_count": null,
   "id": "0e7419e4-db22-49ea-8e12-6db2b3681545",
   "metadata": {},
   "outputs": [],
   "source": [
    "# Download and initialise the model\n",
    "ablang = ablang2.pretrained(model_to_use='ablang2-paired', random_init=False, ncpu=1, device='cpu')\n",
    "\n",
    "# Tokenize input sequences\n",
    "seq = f\"{seq1[0]}|{seq1[1]}\" # VH first, VL second, with | used to separated the two sequences \n",
    "tokenized_seq = ablang.tokenizer([seq], pad=True, w_extra_tkns=False, device=\"cpu\")\n",
    "        \n",
    "# Generate rescodings\n",
    "with torch.no_grad():\n",
    "    rescoding = ablang.AbRep(tokenized_seq).last_hidden_states\n",
    "\n",
    "# Generate logits/likelihoods\n",
    "with torch.no_grad():\n",
    "    likelihoods = ablang.AbLang(tokenized_seq)"
   ]
  },
  {
   "cell_type": "markdown",
   "id": "48562761-6ebe-4025-be97-918c9f9eff7e",
   "metadata": {},
   "source": [
    "# **2. Different modes for specific usecases**\n",
    "\n",
    "AbLang2 has already been implemented for a variety of different usecases. The benefit of these modes is that they handle extra tokens such as start, stop and separation tokens.\n",
    "\n",
    "1. seqcoding: Generates sequence representations for each sequence\n",
    "2. rescoding: Generates residue representations for each residue in each sequence\n",
    "3. likelihood: Generates likelihoods for each amino acid at each position in each sequence\n",
    "4. probability: Generates probabilities for each amino acid at each position in each sequence\n",
    "5. pseudo_log_likelihood: Returns the pseudo log likelihood for a sequence (based on masking each residue one at a time)\n",
    "6. confidence: Returns a fast calculation of the log likelihood for a sequence (based on a single pass with no masking)\n",
    "7. restore: Restores masked residues\n",
    "\n",
    "### **AbLang2 can also align the resulting representations using ANARCI**\n",
    "\n",
    "This can be done for 'rescoding', 'likelihood', and 'probability'. This is done by setting the argument \"align=True\".\n",
    "\n",
    "**NB**: Align can only be used on input with the same format, i.e. either all heavy, all light, or all both heavy and light.\n",
    "\n",
    "### **The align argument can also be used to restore variable missing lengths**\n",
    "\n",
    "For this, use \"align=True\" with the 'restore' mode."
   ]
  },
  {
   "cell_type": "code",
   "execution_count": null,
   "id": "ceae4a88-0679-4704-8bad-c06a4569c497",
   "metadata": {},
   "outputs": [],
   "source": [
    "ablang = ablang2.pretrained()\n",
    "\n",
    "valid_modes = [\n",
    "    'seqcoding', 'rescoding', 'likelihood', 'probability',\n",
    "    'pseudo_log_likelihood', 'confidence', 'restore' \n",
    "]"
   ]
  },
  {
   "cell_type": "markdown",
   "id": "aa333732-7508-4826-92ec-3acdd54bc1bb",
   "metadata": {},
   "source": [
    "## **seqcoding** \n",
    "\n",
    "The seqcodings represents each sequence as a 480 sized embedding. It is derived from averaging across each rescoding embedding for a given sequence, including extra tokens. \n",
    "\n",
    "**NB:** Seqcodings can also be derived in other ways like using the sum or averaging across only parts of the input such as the CDRs. For such cases please use and adapt the below rescoding."
   ]
  },
  {
   "cell_type": "code",
   "execution_count": null,
   "id": "d22f4302-1262-4cc1-8a1c-a36daa8c710c",
   "metadata": {},
   "outputs": [],
   "source": [
    "ablang(all_seqs, mode='seqcoding')"
   ]
  },
  {
   "cell_type": "markdown",
   "id": "ac98c317-e085-4d94-9729-bbae039f49ac",
   "metadata": {},
   "source": [
    "## **rescoding / likelihood / probability**\n",
    "\n",
    "The rescodings represents each residue as a 480 sized embedding. The likelihoods represents each residue as the predicted logits for each character in the vocabulary. The probabilities represents the normalised likelihoods.\n",
    "\n",
    "**NB:** The output includes extra tokens (start, stop and separation tokens) in the format \"<VH_seq>|<VL_seq>\". The length of the output is therefore 5 longer than the VH and VL.\n",
    "\n",
    "**NB:** By default the representations are derived using a single forward pass. To prevent the predicted likelihood and probability to be affected by the input residue at each position, setting the \"stepwise_masking\" argument to True can be used. This will run a forward pass for each position with the residue at that position masked. This is much slower than running a single forward pass."
   ]
  },
  {
   "cell_type": "code",
   "execution_count": null,
   "id": "6227f661-575f-4b1e-9646-cfba7b10c3b4",
   "metadata": {},
   "outputs": [],
   "source": [
    "ablang(all_seqs, mode='rescoding', stepwise_masking = False)"
   ]
  },
  {
   "cell_type": "markdown",
   "id": "6da2183b-4306-49bd-a7fc-23e78a23f305",
   "metadata": {},
   "source": [
    "## **Align rescoding/likelihood/probability output**\n",
    "\n",
    "For the 'rescoding', 'likelihood', and 'probability' modes, the output can also be aligned using the argument \"align=True\".\n",
    "\n",
    "This is done using the antibody numbering tool ANARCI, and requires manually installing **Pandas** and **[ANARCI](https://github.com/oxpig/ANARCI)**.\n",
    "\n",
    "**NB**: Align can only be used on input with the same format, i.e. either all heavy, all light, or all both heavy and light."
   ]
  },
  {
   "cell_type": "code",
   "execution_count": null,
   "id": "e4bc0cb1-f5b0-4255-9e93-d643ae1396df",
   "metadata": {},
   "outputs": [],
   "source": [
    "results = ablang(only_both_chains_seqs, mode='likelihood', align=True)\n",
    "\n",
    "print(results.number_alignment)\n",
    "print(results.aligned_seqs)\n",
    "print(results.aligned_embeds)"
   ]
  },
  {
   "cell_type": "markdown",
   "id": "8f0a71ec-e916-4330-90d0-13a4b1121a89",
   "metadata": {},
   "source": [
    "## **Pseudo log likelihood and Confidence scores**\n",
    "\n",
    "The pseudo log likelihood and confidence represents two methods for calculating the uncertainty for the input sequence.\n",
    "\n",
    "- pseudo_log_likelihood: For each position, the pseudo log likelihood is calculated when predicting the masked residue. The final score is an average across the whole input. This is similar to the approach taken in the ESM-2 paper for calculating pseudo perplexity [(Lin et al., 2023)](https://doi.org/10.1126/science.ade2574).\n",
    "\n",
    "- confidence: For each position, the log likelihood is calculated without masking the residue. The final score is an average across the whole input. \n",
    "\n",
    "**NB:** The **confidence is fast** to compute, requiring only a single forward pass per input. **Pseudo log likelihood is slow** to calculate, requiring L forward passes per input, where L is the length of the input.\n",
    "\n",
    "**NB:** It is recommended to use **pseudo log likelihood for final results** and **confidence for exploratory work**."
   ]
  },
  {
   "cell_type": "code",
   "execution_count": null,
   "id": "83f3064b-48a7-42fb-ba82-ec153ea946da",
   "metadata": {},
   "outputs": [],
   "source": [
    "results = ablang(all_seqs, mode='pseudo_log_likelihood')\n",
    "np.exp(-results) # convert to pseudo perplexity"
   ]
  },
  {
   "cell_type": "code",
   "execution_count": null,
   "id": "42cc8b34-5ae9-4857-93fe-a438a0f2a868",
   "metadata": {},
   "outputs": [],
   "source": [
    "results = ablang(all_seqs, mode='confidence')\n",
    "np.exp(-results)"
   ]
  },
  {
   "cell_type": "markdown",
   "id": "e0b63e48-b2a1-4a8e-8ecb-449748a2cb25",
   "metadata": {},
   "source": [
    "## **restore**\n",
    "\n",
    "This mode can be used to restore masked residues, and fragmented regions with \"align=True\". "
   ]
  },
  {
   "cell_type": "code",
   "execution_count": null,
   "id": "2d5b725c-4eac-4a4b-9331-357c3ac140f7",
   "metadata": {},
   "outputs": [],
   "source": [
    "restored = ablang(only_both_chains_seqs, mode='restore')\n",
    "restored"
   ]
  },
  {
   "cell_type": "code",
   "execution_count": null,
   "id": "0e9615f7-c490-4947-96f4-7617266c686e",
   "metadata": {},
   "outputs": [],
   "source": [
    "restored = ablang(only_both_chains_seqs, mode='restore', align = True)\n",
    "restored"
   ]
  }
 ],
 "metadata": {
  "kernelspec": {
   "display_name": "Python [conda env:ablang2_tmp]",
   "language": "python",
   "name": "conda-env-ablang2_tmp-py"
  },
  "language_info": {
   "codemirror_mode": {
    "name": "ipython",
    "version": 3
   },
   "file_extension": ".py",
   "mimetype": "text/x-python",
   "name": "python",
   "nbconvert_exporter": "python",
   "pygments_lexer": "ipython3",
   "version": "3.11.7"
  }
 },
 "nbformat": 4,
 "nbformat_minor": 5
}
