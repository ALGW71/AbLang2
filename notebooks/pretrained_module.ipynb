{
 "cells": [
  {
   "cell_type": "code",
   "execution_count": 1,
   "id": "7ae54cd0-6253-46dd-a316-4f20b12041e0",
   "metadata": {},
   "outputs": [],
   "source": [
    "%load_ext autoreload\n",
    "%autoreload 2\n",
    "\n",
    "import ablang"
   ]
  },
  {
   "cell_type": "code",
   "execution_count": 2,
   "id": "4194e235-9653-49a0-a2b8-118941574645",
   "metadata": {},
   "outputs": [],
   "source": [
    "model = ablang.pretrained(\"/vols/bitbucket/olsen/models/ABLANG-709/\")"
   ]
  },
  {
   "cell_type": "code",
   "execution_count": 34,
   "id": "99192978-a008-4a32-a80e-bba238e0ec7c",
   "metadata": {},
   "outputs": [],
   "source": [
    "seq1 = {\n",
    "    'H':'EVQLLESGGEVKKPGASVKVSCRASGYTFRNYGLTWVRQAPGQGLEWMGWISAYNGNTNYAQKFQGRVTLTTDTSTSTAYMELRSLRSDDTAVYFCARDVPGHGAAFMDVWGTGTTVTVSS',\n",
    "    'L':'DIQLTQSPLSLPVTLGQPASISCRSSQSLEASDTNIYLSWFQQRPGQSPRRLIYKISNRDSGVPDRFSGSGSGTHFTLRISRVEADDVAVYYCMQGTHWPPAFGQGTKVDIK'\n",
    "}\n",
    "seq2 = {\n",
    "    'H':'EVQLLGEVKKPGASVKVSCRASGYTFRNYGLTWVRQAPGQGLEWMGWISAYNGNTNYAQKFQGRVTLTTDTSTSTAYMELRSLRSDDTAVYFCARDVPGHGAAFMDVWGTGTTVTVSS',\n",
    "    'L':'SISCRSSQSLEASDTNIYLSWFQQRPGQSPRRLIYKISNRDSGVPDRFSGSGSGTHFTLRISRVEADDVAVYYCMQGTHWPPAFGQGTKVDIK'\n",
    "}\n",
    "seq3 = {\n",
    "    'H':'EVQLLGEVKKPGASVKVSCRASGYTFRNYGLTWVRQAPGQGLEWMGWISAYNGNTNYAQKFQGRVTLTTDTSTSTAYMELRSLRSDDTAVYFCARDVPGHGAAFMDVWGTGTTVTVSS',\n",
    "    }\n",
    "seq4 = {\n",
    "    'H':'EVQLQESGGGLVQPGESLRLSCVGSGSSFGESTLSYYAVSWVRQAPGKGLEWLSIINAGGGDIDYADSVEGRFTISRDNSKETLYLQMTNLRVEDTGVYYCAKHMSMQQVVSAGWERADLVGDAFDVWGQGTMVTVSS',\n",
    "    'L':'DIQLTQSPSSLSASVGDRVTLTCQASQDIRKFLNWYQQKPGKGPKLLIYDASNLQRGVPSRFSGGGSGTDFTLIISSLQPEDVGTYYCQQYDGLPFTFGGGTKVVIK'\n",
    "}\n",
    "\n",
    "seqs = [seq1, seq2]"
   ]
  },
  {
   "cell_type": "code",
   "execution_count": 58,
   "id": "d9dc894f-b395-4ea0-a635-dc5751557ffe",
   "metadata": {},
   "outputs": [],
   "source": [
    "seqs_new = [\n",
    "    {'H': 'QVQLQESGPRLVKPSETLSLTCTVSGGSISGSNYFWGWIRQPPGKGLEWIGTIYYGGSTYYNPSLKSRVTISVDTSENQFSLKLSSVTAADTAVYYCANLAWLRGYFDYWGQGTLVTVSS',\n",
    "  'L': 'NFMLTQPHSVSESPGKTVTISCTRSSGSIASNYVQWYQQRPGSAPTTVIYEDNQRPSGVPDRFSGSIDSSSNSVSLTISGLKTEDEADYYCQSYDSSNWVFGGGTKLTVL'},\n",
    "    {'H': 'EVQLVQSGAEVKKPGASVKVSCKASGYTFTDYWIYWVRQAPGQGLEWMGTIDTSDHKTSYNQKFRGRVTMTRDTSTSTVYMELSSLRSEDTAVYYCARDFIITVNYPVVDYWGQGTLVTVSS',\n",
    "  'L': 'QIVLTQSPATLSLSPGERATLSCSAGSSVNYMHWFQQKPGQAPRLLIYSTSNLASGVPARFSGSGSGTDYTLTISSLEPEDFAVYYCQQRSSLPFTFGQGTKLEIK'},\n",
    "    \n",
    "    ]"
   ]
  },
  {
   "cell_type": "code",
   "execution_count": 71,
   "id": "9577e3fe-043c-4430-b3cf-41b98eae8294",
   "metadata": {},
   "outputs": [
    {
     "data": {
      "text/plain": [
       "aligned_results(aligned_embeds=array([[[-0.3878253400325775, -0.48439493775367737,\n",
       "         -0.06649225205183029, ..., 0.042517926543951035,\n",
       "         -0.4628494679927826, '<'],\n",
       "        [-0.4599864184856415, 0.4597696363925934, -0.1467791050672531,\n",
       "         ..., 0.0333760529756546, -0.45324841141700745, 'E'],\n",
       "        [-0.1835758090019226, 0.3269803524017334, -0.16753999888896942,\n",
       "         ..., -0.21250931918621063, 0.0888785868883133, 'V'],\n",
       "        ...,\n",
       "        [-0.29478898644447327, -0.061758678406476974,\n",
       "         -0.3153388500213623, ..., -0.5813659429550171,\n",
       "         0.23931853473186493, 'I'],\n",
       "        [-0.029618775472044945, 0.3093995749950409,\n",
       "         -0.21040979027748108, ..., -0.4987454116344452,\n",
       "         0.24815092980861664, 'K'],\n",
       "        [-0.15065643191337585, -0.3086070418357849, -0.1835339218378067,\n",
       "         ..., 0.24800609052181244, -0.4314933121204376, '>']],\n",
       "\n",
       "       [[-0.38041818141937256, -0.3612355589866638,\n",
       "         0.037833377718925476, ..., 0.10084830969572067,\n",
       "         -0.3996308743953705, '<'],\n",
       "        [-0.6546611785888672, 0.28069281578063965, -0.48112064599990845,\n",
       "         ..., -0.1868559569120407, -0.19991032779216766, 'Q'],\n",
       "        [0.07487035542726517, 0.3624759316444397, -0.16456303000450134,\n",
       "         ..., 0.25155895948410034, 0.13320885598659515, 'V'],\n",
       "        ...,\n",
       "        [-0.22973205149173737, 0.7419804334640503, -0.2595769464969635,\n",
       "         ..., -0.32625192403793335, -0.1263841986656189, 'V'],\n",
       "        [0.04203270748257637, 0.22817999124526978, 0.06774769723415375,\n",
       "         ..., 0.05466002970933914, 0.10073789209127426, 'L'],\n",
       "        [-0.14382468163967133, -0.18018709123134613,\n",
       "         0.28348833322525024, ..., 0.4222581088542938,\n",
       "         -0.2956749498844147, '>']]], dtype=object), number_alignment=array(['<', '1 ', '2 ', '3 ', '4 ', '5 ', '6 ', '7 ', '8 ', '9 ', '11 ',\n",
       "       '12 ', '13 ', '14 ', '15 ', '16 ', '17 ', '18 ', '19 ', '20 ',\n",
       "       '21 ', '22 ', '23 ', '24 ', '25 ', '26 ', '27 ', '28 ', '29 ',\n",
       "       '30 ', '31 ', '34 ', '35 ', '36 ', '37 ', '38 ', '39 ', '40 ',\n",
       "       '41 ', '42 ', '43 ', '44 ', '45 ', '46 ', '47 ', '48 ', '49 ',\n",
       "       '50 ', '51 ', '52 ', '53 ', '54 ', '55 ', '56 ', '57 ', '58 ',\n",
       "       '59 ', '62 ', '63 ', '64 ', '65 ', '66 ', '67 ', '68 ', '69 ',\n",
       "       '70 ', '71 ', '72 ', '74 ', '75 ', '76 ', '77 ', '78 ', '79 ',\n",
       "       '80 ', '81 ', '82 ', '83 ', '84 ', '85 ', '86 ', '87 ', '88 ',\n",
       "       '89 ', '90 ', '91 ', '92 ', '93 ', '94 ', '95 ', '96 ', '97 ',\n",
       "       '98 ', '99 ', '100 ', '101 ', '102 ', '103 ', '104 ', '105 ',\n",
       "       '106 ', '107 ', '108 ', '109 ', '110 ', '111 ', '111A', '112A',\n",
       "       '112 ', '113 ', '114 ', '115 ', '116 ', '117 ', '118 ', '119 ',\n",
       "       '120 ', '121 ', '122 ', '123 ', '124 ', '125 ', '126 ', '127 ',\n",
       "       '128 ', '>', '|', '<', '1 ', '2 ', '3 ', '4 ', '5 ', '6 ', '7 ',\n",
       "       '8 ', '9 ', '10 ', '11 ', '12 ', '13 ', '14 ', '15 ', '16 ', '17 ',\n",
       "       '18 ', '19 ', '20 ', '21 ', '22 ', '23 ', '24 ', '25 ', '26 ',\n",
       "       '27 ', '28 ', '29 ', '30 ', '35 ', '36 ', '37 ', '38 ', '39 ',\n",
       "       '40 ', '41 ', '42 ', '43 ', '44 ', '45 ', '46 ', '47 ', '48 ',\n",
       "       '49 ', '50 ', '51 ', '52 ', '53 ', '54 ', '55 ', '56 ', '57 ',\n",
       "       '65 ', '66 ', '67 ', '68 ', '69 ', '70 ', '71 ', '72 ', '74 ',\n",
       "       '75 ', '76 ', '77 ', '78 ', '79 ', '80 ', '81 ', '82 ', '83 ',\n",
       "       '84 ', '85 ', '86 ', '87 ', '88 ', '89 ', '90 ', '91 ', '92 ',\n",
       "       '93 ', '94 ', '95 ', '96 ', '97 ', '98 ', '99 ', '100 ', '101 ',\n",
       "       '102 ', '103 ', '104 ', '105 ', '106 ', '107 ', '108 ', '109 ',\n",
       "       '114 ', '115 ', '116 ', '117 ', '118 ', '119 ', '120 ', '121 ',\n",
       "       '122 ', '123 ', '124 ', '125 ', '126 ', '127 ', '>'], dtype=object))"
      ]
     },
     "execution_count": 71,
     "metadata": {},
     "output_type": "execute_result"
    }
   ],
   "source": [
    "results = model(seqs_new, mode='rescoding', align=True, chunk_size=2)\n",
    "results"
   ]
  },
  {
   "cell_type": "code",
   "execution_count": 72,
   "id": "9091a425-08b2-4cb3-85a0-31fd7c449735",
   "metadata": {},
   "outputs": [
    {
     "data": {
      "text/plain": [
       "(2, 240, 481)"
      ]
     },
     "execution_count": 72,
     "metadata": {},
     "output_type": "execute_result"
    }
   ],
   "source": [
    "results.aligned_embeds.shape"
   ]
  },
  {
   "cell_type": "code",
   "execution_count": 73,
   "id": "7d2c7234-d870-40ba-91e4-4e995c3ee261",
   "metadata": {},
   "outputs": [
    {
     "data": {
      "text/plain": [
       "(240,)"
      ]
     },
     "execution_count": 73,
     "metadata": {},
     "output_type": "execute_result"
    }
   ],
   "source": [
    "results.number_alignment.shape"
   ]
  }
 ],
 "metadata": {
  "kernelspec": {
   "display_name": "Python [conda env:ablang2-test]",
   "language": "python",
   "name": "conda-env-ablang2-test-py"
  },
  "language_info": {
   "codemirror_mode": {
    "name": "ipython",
    "version": 3
   },
   "file_extension": ".py",
   "mimetype": "text/x-python",
   "name": "python",
   "nbconvert_exporter": "python",
   "pygments_lexer": "ipython3",
   "version": "3.9.0"
  }
 },
 "nbformat": 4,
 "nbformat_minor": 5
}
