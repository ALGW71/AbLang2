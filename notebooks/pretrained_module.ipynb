{
 "cells": [
  {
   "cell_type": "code",
   "execution_count": 1,
   "id": "7ae54cd0-6253-46dd-a316-4f20b12041e0",
   "metadata": {},
   "outputs": [],
   "source": [
    "%load_ext autoreload\n",
    "%autoreload 2\n",
    "\n",
    "import ablang"
   ]
  },
  {
   "cell_type": "code",
   "execution_count": 2,
   "id": "4194e235-9653-49a0-a2b8-118941574645",
   "metadata": {},
   "outputs": [],
   "source": [
    "model = ablang.pretrained(\"/vols/bitbucket/olsen/models/ABLANG-709/\")"
   ]
  },
  {
   "cell_type": "code",
   "execution_count": 3,
   "id": "99192978-a008-4a32-a80e-bba238e0ec7c",
   "metadata": {},
   "outputs": [],
   "source": [
    "seq1 = {\n",
    "    'H':'EVQLLESGGEVKKPGASVKVSCRASGYTFRNYGLTWVRQAPGQGLEWMGWISAYNGNTNYAQKFQGRVTLTTDTSTSTAYMELRSLRSDDTAVYFCARDVPGHGAAFMDVWGTGTTVTVSS',\n",
    "    'L':'DIQLTQSPLSLPVTLGQPASISCRSSQSLEASDTNIYLSWFQQRPGQSPRRLIYKISNRDSGVPDRFSGSGSGTHFTLRISRVEADDVAVYYCMQGTHWPPAFGQGTKVDIK'\n",
    "}\n",
    "seq2 = {\n",
    "    'H':'EVQLLGEVKKPGASVKVSCRASGYTFRNYGLTWVRQAPGQGLEWMGWISAYNGNTNYAQKFQGRVTLTTDTSTSTAYMELRSLRSDDTAVYFCARDVPGHGAAFMDVWGTGTTVTVSS',\n",
    "    'L':'SISCRSSQSLEASDTNIYLSWFQQRPGQSPRRLIYKISNRDSGVPDRFSGSGSGTHFTLRISRVEADDVAVYYCMQGTHWPPAFGQGTKVDIK'\n",
    "}\n",
    "seq3 = {\n",
    "    'H':'EVQLLGEVKKPGASVKVSCRASGYTFRNYGLTWVRQAPGQGLEWMGWISAYNGNTNYAQKFQGRVTLTTDTSTSTAYMELRSLRSDDTAVYFCARDVPGHGAAFMDVWGTGTTVTVSS',\n",
    "    }\n",
    "seq4 = {\n",
    "    'H':'EVQLQESGGGLVQPGESLRLSCVGSGSSFGESTLSYYAVSWVRQAPGKGLEWLSIINAGGGDIDYADSVEGRFTISRDNSKETLYLQMTNLRVEDTGVYYCAKHMSMQQVVSAGWERADLVGDAFDVWGQGTMVTVSS',\n",
    "    'L':'DIQLTQSPSSLSASVGDRVTLTCQASQDIRKFLNWYQQKPGKGPKLLIYDASNLQRGVPSRFSGGGSGTDFTLIISSLQPEDVGTYYCQQYDGLPFTFGGGTKVVIK'\n",
    "}\n",
    "\n",
    "seqs = [seq1, seq2]"
   ]
  },
  {
   "cell_type": "code",
   "execution_count": 5,
   "id": "9577e3fe-043c-4430-b3cf-41b98eae8294",
   "metadata": {},
   "outputs": [
    {
     "data": {
      "text/plain": [
       "aligned_results(aligned_embeds=array([[[-0.4074121117591858, -0.5118986964225769, 0.060967136174440384,\n",
       "         ..., 0.0392022542655468, -0.3671584725379944, '<'],\n",
       "        [-0.5768881440162659, 0.3824542462825775, -0.21792025864124298,\n",
       "         ..., -0.08844476193189621, -0.3236752450466156, 'E'],\n",
       "        [-0.1475933939218521, 0.3963905870914459, -0.38226982951164246,\n",
       "         ..., -0.41469553112983704, -0.003193749114871025, 'V'],\n",
       "        ...,\n",
       "        [-0.14358364045619965, 0.31243896484375, -0.3015798032283783,\n",
       "         ..., -0.45353418588638306, -0.07878845930099487, 'I'],\n",
       "        [0.1753893941640854, 0.2439430058002472, 0.20141161978244781,\n",
       "         ..., -0.38479024171829224, 0.07409194111824036, 'K'],\n",
       "        [-0.2303171008825302, -0.3548729121685028, 0.19606821238994598,\n",
       "         ..., 0.3110732436180115, -0.3265106976032257, '>']],\n",
       "\n",
       "       [[-0.31190750002861023, 0.18421988189220428, 0.4502749443054199,\n",
       "         ..., -0.41516828536987305, 0.004628135357052088, '<'],\n",
       "        [0.0, 0.0, 0.0, ..., 0.0, 0.0, '-'],\n",
       "        [0.0, 0.0, 0.0, ..., 0.0, 0.0, '-'],\n",
       "        ...,\n",
       "        [-0.3270348608493805, 0.2739308178424835, -0.024923091754317284,\n",
       "         ..., -0.5918296575546265, 0.008175233379006386, 'I'],\n",
       "        [0.01675780676305294, 0.18407626450061798, 0.22682102024555206,\n",
       "         ..., -0.3557048439979553, 0.0015949527733027935, 'K'],\n",
       "        [-0.28915438055992126, -0.2014610469341278, 0.23733487725257874,\n",
       "         ..., 0.22987711429595947, -0.3067406415939331, '>']]],\n",
       "      dtype=object), number_alignment=array(['<', '1 ', '2 ', '3 ', '4 ', '5 ', '6 ', '7 ', '8 ', '9 ', '11 ',\n",
       "       '12 ', '13 ', '14 ', '15 ', '16 ', '17 ', '18 ', '19 ', '20 ',\n",
       "       '21 ', '22 ', '23 ', '24 ', '25 ', '26 ', '27 ', '28 ', '29 ',\n",
       "       '30 ', '35 ', '36 ', '37 ', '38 ', '39 ', '40 ', '41 ', '42 ',\n",
       "       '43 ', '44 ', '45 ', '46 ', '47 ', '48 ', '49 ', '50 ', '51 ',\n",
       "       '52 ', '53 ', '54 ', '55 ', '56 ', '57 ', '58 ', '59 ', '62 ',\n",
       "       '63 ', '64 ', '65 ', '66 ', '67 ', '68 ', '69 ', '70 ', '71 ',\n",
       "       '72 ', '74 ', '75 ', '76 ', '77 ', '78 ', '79 ', '80 ', '81 ',\n",
       "       '82 ', '83 ', '84 ', '85 ', '86 ', '87 ', '88 ', '89 ', '90 ',\n",
       "       '91 ', '92 ', '93 ', '94 ', '95 ', '96 ', '97 ', '98 ', '99 ',\n",
       "       '100 ', '101 ', '102 ', '103 ', '104 ', '105 ', '106 ', '107 ',\n",
       "       '108 ', '109 ', '110 ', '111 ', '112A', '112 ', '113 ', '114 ',\n",
       "       '115 ', '116 ', '117 ', '118 ', '119 ', '120 ', '121 ', '122 ',\n",
       "       '123 ', '124 ', '125 ', '126 ', '127 ', '128 ', '>', '|', '<',\n",
       "       '1 ', '2 ', '3 ', '4 ', '5 ', '6 ', '7 ', '8 ', '9 ', '10 ', '11 ',\n",
       "       '12 ', '13 ', '14 ', '15 ', '16 ', '17 ', '18 ', '19 ', '20 ',\n",
       "       '21 ', '22 ', '23 ', '24 ', '25 ', '26 ', '27 ', '28 ', '29 ',\n",
       "       '30 ', '31 ', '32 ', '34 ', '35 ', '36 ', '37 ', '38 ', '39 ',\n",
       "       '40 ', '41 ', '42 ', '43 ', '44 ', '45 ', '46 ', '47 ', '48 ',\n",
       "       '49 ', '50 ', '51 ', '52 ', '53 ', '54 ', '55 ', '56 ', '57 ',\n",
       "       '65 ', '66 ', '67 ', '68 ', '69 ', '70 ', '71 ', '72 ', '74 ',\n",
       "       '75 ', '76 ', '77 ', '78 ', '79 ', '80 ', '83 ', '84 ', '85 ',\n",
       "       '86 ', '87 ', '88 ', '89 ', '90 ', '91 ', '92 ', '93 ', '94 ',\n",
       "       '95 ', '96 ', '97 ', '98 ', '99 ', '100 ', '101 ', '102 ', '103 ',\n",
       "       '104 ', '105 ', '106 ', '107 ', '108 ', '109 ', '114 ', '115 ',\n",
       "       '116 ', '117 ', '118 ', '119 ', '120 ', '121 ', '122 ', '123 ',\n",
       "       '124 ', '125 ', '126 ', '127 ', '>'], dtype=object))"
      ]
     },
     "execution_count": 5,
     "metadata": {},
     "output_type": "execute_result"
    }
   ],
   "source": [
    "results = model(seqs, mode='rescoding', align=True, chunk_size=1)\n",
    "results"
   ]
  },
  {
   "cell_type": "code",
   "execution_count": 6,
   "id": "9091a425-08b2-4cb3-85a0-31fd7c449735",
   "metadata": {},
   "outputs": [
    {
     "data": {
      "text/plain": [
       "(2, 238, 481)"
      ]
     },
     "execution_count": 6,
     "metadata": {},
     "output_type": "execute_result"
    }
   ],
   "source": [
    "results.aligned_embeds.shape"
   ]
  },
  {
   "cell_type": "code",
   "execution_count": 7,
   "id": "7d2c7234-d870-40ba-91e4-4e995c3ee261",
   "metadata": {},
   "outputs": [
    {
     "data": {
      "text/plain": [
       "(238,)"
      ]
     },
     "execution_count": 7,
     "metadata": {},
     "output_type": "execute_result"
    }
   ],
   "source": [
    "results.number_alignment.shape"
   ]
  }
 ],
 "metadata": {
  "kernelspec": {
   "display_name": "Python [conda env:ablang2-test]",
   "language": "python",
   "name": "conda-env-ablang2-test-py"
  },
  "language_info": {
   "codemirror_mode": {
    "name": "ipython",
    "version": 3
   },
   "file_extension": ".py",
   "mimetype": "text/x-python",
   "name": "python",
   "nbconvert_exporter": "python",
   "pygments_lexer": "ipython3",
   "version": "3.9.0"
  }
 },
 "nbformat": 4,
 "nbformat_minor": 5
}
