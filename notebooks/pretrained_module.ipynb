{
 "cells": [
  {
   "cell_type": "code",
   "execution_count": 1,
   "id": "7ae54cd0-6253-46dd-a316-4f20b12041e0",
   "metadata": {},
   "outputs": [],
   "source": [
    "%load_ext autoreload\n",
    "%autoreload 2\n",
    "\n",
    "import ablang"
   ]
  },
  {
   "cell_type": "code",
   "execution_count": 2,
   "id": "4194e235-9653-49a0-a2b8-118941574645",
   "metadata": {},
   "outputs": [],
   "source": [
    "model = ablang.pretrained(\"/vols/bitbucket/olsen/models/ABLANG-709/\")"
   ]
  },
  {
   "cell_type": "code",
   "execution_count": 5,
   "id": "99192978-a008-4a32-a80e-bba238e0ec7c",
   "metadata": {},
   "outputs": [],
   "source": [
    "seq1 = {\n",
    "    'H':'EVQLLESGGEVKKPGASVKVSCRASGYTFRNYGLTWVRQAPGQGLEWMGWISAYNGNTNYAQKFQGRVTLTTDTSTSTAYMELRSLRSDDTAVYFCARDVPGHGAAFMDVWGTGTTVTVSS',\n",
    "    'L':'DIQLTQSPLSLPVTLGQPASISCRSSQSLEASDTNIYLSWFQQRPGQSPRRLIYKISNRDSGVPDRFSGSGSGTHFTLRISRVEADDVAVYYCMQGTHWPPAFGQGTKVDIK'\n",
    "}\n",
    "seq2 = {\n",
    "    'H':'EVQLLGEVKKPGASVKVSCRASGYTFRNYGLTWVRQAPGQGLEWMGWISAYNGNTNYAQKFQGRVTLTTDTSTSTAYMELRSLRSDDTAVYFCARDVPGHGAAFMDVWGTGTTVTVSS',\n",
    "    'L':'DIQLTQSPLSLPVTLGQPASISCRSSQSLEASDTNIYLSWFQQRPGQSPRRLIYKISNRDSGVPDRFSGSGSGTHFTLRISRVEADDVAVYYCMQGTHWPPAFGQGTKVDIK'\n",
    "}\n",
    "seq3 = {\n",
    "    'H':'EVQLLGEVKKPGASVKVSCRASGYTFRNYGLTWVRQAPGQGLEWMGWISAYNGNTNYAQKFQGRVTLTTDTSTSTAYMELRSLRSDDTAVYFCARDVPGHGAAFMDVWGTGTTVTVSS',\n",
    "    }\n",
    "seq4 = {\n",
    "    'H':'EVQLQESGGGLVQPGESLRLSCVGSGSSFGESTLSYYAVSWVRQAPGKGLEWLSIINAGGGDIDYADSVEGRFTISRDNSKETLYLQMTNLRVEDTGVYYCAKHMSMQQVVSAGWERADLVGDAFDVWGQGTMVTVSS',\n",
    "    'L':'DIQLTQSPSSLSASVGDRVTLTCQASQDIRKFLNWYQQKPGKGPKLLIYDASNLQRGVPSRFSGGGSGTDFTLIISSLQPEDVGTYYCQQYDGLPFTFGGGTKVVIK'\n",
    "}\n",
    "\n",
    "seqs = [seq1, seq2]"
   ]
  },
  {
   "cell_type": "code",
   "execution_count": 28,
   "id": "9577e3fe-043c-4430-b3cf-41b98eae8294",
   "metadata": {},
   "outputs": [
    {
     "data": {
      "text/plain": [
       "aligned_results(aligned_embeds=array([[[9.316218376159668, -3.421842336654663, -3.5939764976501465,\n",
       "         ..., -6.893588542938232, -0.23662693798542023, '<'],\n",
       "        [-3.547184467315674, -5.848665714263916, -4.024233818054199,\n",
       "         ..., -9.561453819274902, -4.484743118286133, 'E'],\n",
       "        [-11.949976921081543, -2.2455456256866455, -5.694814682006836,\n",
       "         ..., -17.974546432495117, -12.569522857666016, 'V'],\n",
       "        ...,\n",
       "        [-8.945048332214355, -0.42261484265327454, -4.955881595611572,\n",
       "         ..., -15.222468376159668, -10.372674942016602, 'I'],\n",
       "        [-11.651500701904297, -5.4447760581970215, -2.955859899520874,\n",
       "         ..., -9.75158405303955, -11.758964538574219, 'K'],\n",
       "        [1.7947015762329102, -1.958465576171875, -3.5978446006774902,\n",
       "         ..., -7.470804214477539, -0.9522708654403687, '>']],\n",
       "\n",
       "       [[-4.40805721282959, -6.408259391784668, -0.912237286567688, ...,\n",
       "         -6.515008449554443, -2.709768533706665, '<'],\n",
       "        [0.0, 0.0, 0.0, ..., 0.0, 0.0, '-'],\n",
       "        [0.0, 0.0, 0.0, ..., 0.0, 0.0, '-'],\n",
       "        ...,\n",
       "        [-8.939840316772461, -0.330160915851593, -4.802280426025391,\n",
       "         ..., -15.364265441894531, -10.450599670410156, 'I'],\n",
       "        [-11.801724433898926, -5.581727504730225, -2.889270067214966,\n",
       "         ..., -9.92274284362793, -11.910665512084961, 'K'],\n",
       "        [2.2145538330078125, -1.9145169258117676, -3.780912160873413,\n",
       "         ..., -7.182992458343506, -0.7962930202484131, '>']]],\n",
       "      dtype=object), number_alignment=array(['<', '1 ', '2 ', '3 ', '4 ', '5 ', '6 ', '7 ', '8 ', '9 ', '11 ',\n",
       "       '12 ', '13 ', '14 ', '15 ', '16 ', '17 ', '18 ', '19 ', '20 ',\n",
       "       '21 ', '22 ', '23 ', '24 ', '25 ', '26 ', '27 ', '28 ', '29 ',\n",
       "       '30 ', '35 ', '36 ', '37 ', '38 ', '39 ', '40 ', '41 ', '42 ',\n",
       "       '43 ', '44 ', '45 ', '46 ', '47 ', '48 ', '49 ', '50 ', '51 ',\n",
       "       '52 ', '53 ', '54 ', '55 ', '56 ', '57 ', '58 ', '59 ', '62 ',\n",
       "       '63 ', '64 ', '65 ', '66 ', '67 ', '68 ', '69 ', '70 ', '71 ',\n",
       "       '72 ', '74 ', '75 ', '76 ', '77 ', '78 ', '79 ', '80 ', '81 ',\n",
       "       '82 ', '83 ', '84 ', '85 ', '86 ', '87 ', '88 ', '89 ', '90 ',\n",
       "       '91 ', '92 ', '93 ', '94 ', '95 ', '96 ', '97 ', '98 ', '99 ',\n",
       "       '100 ', '101 ', '102 ', '103 ', '104 ', '105 ', '106 ', '107 ',\n",
       "       '108 ', '109 ', '110 ', '111 ', '112A', '112 ', '113 ', '114 ',\n",
       "       '115 ', '116 ', '117 ', '118 ', '119 ', '120 ', '121 ', '122 ',\n",
       "       '123 ', '124 ', '125 ', '126 ', '127 ', '128 ', '>', '|', '<',\n",
       "       '1 ', '2 ', '3 ', '4 ', '5 ', '6 ', '7 ', '8 ', '9 ', '10 ', '11 ',\n",
       "       '12 ', '13 ', '14 ', '15 ', '16 ', '17 ', '18 ', '19 ', '20 ',\n",
       "       '21 ', '22 ', '23 ', '24 ', '25 ', '26 ', '27 ', '28 ', '29 ',\n",
       "       '30 ', '31 ', '32 ', '34 ', '35 ', '36 ', '37 ', '38 ', '39 ',\n",
       "       '40 ', '41 ', '42 ', '43 ', '44 ', '45 ', '46 ', '47 ', '48 ',\n",
       "       '49 ', '50 ', '51 ', '52 ', '53 ', '54 ', '55 ', '56 ', '57 ',\n",
       "       '65 ', '66 ', '67 ', '68 ', '69 ', '70 ', '71 ', '72 ', '74 ',\n",
       "       '75 ', '76 ', '77 ', '78 ', '79 ', '80 ', '83 ', '84 ', '85 ',\n",
       "       '86 ', '87 ', '88 ', '89 ', '90 ', '91 ', '92 ', '93 ', '94 ',\n",
       "       '95 ', '96 ', '97 ', '98 ', '99 ', '100 ', '101 ', '102 ', '103 ',\n",
       "       '104 ', '105 ', '106 ', '107 ', '108 ', '109 ', '114 ', '115 ',\n",
       "       '116 ', '117 ', '118 ', '119 ', '120 ', '121 ', '122 ', '123 ',\n",
       "       '124 ', '125 ', '126 ', '127 ', '>'], dtype=object))"
      ]
     },
     "execution_count": 28,
     "metadata": {},
     "output_type": "execute_result"
    }
   ],
   "source": [
    "results = model(seqs, mode='likelihood', align=True, )\n",
    "results"
   ]
  },
  {
   "cell_type": "code",
   "execution_count": 29,
   "id": "9091a425-08b2-4cb3-85a0-31fd7c449735",
   "metadata": {},
   "outputs": [
    {
     "data": {
      "text/plain": [
       "(2, 238, 27)"
      ]
     },
     "execution_count": 29,
     "metadata": {},
     "output_type": "execute_result"
    }
   ],
   "source": [
    "results.aligned_embeds.shape"
   ]
  },
  {
   "cell_type": "code",
   "execution_count": 30,
   "id": "7d2c7234-d870-40ba-91e4-4e995c3ee261",
   "metadata": {},
   "outputs": [
    {
     "data": {
      "text/plain": [
       "(238,)"
      ]
     },
     "execution_count": 30,
     "metadata": {},
     "output_type": "execute_result"
    }
   ],
   "source": [
    "results.number_alignment.shape"
   ]
  }
 ],
 "metadata": {
  "kernelspec": {
   "display_name": "Python [conda env:ablang2-test]",
   "language": "python",
   "name": "conda-env-ablang2-test-py"
  },
  "language_info": {
   "codemirror_mode": {
    "name": "ipython",
    "version": 3
   },
   "file_extension": ".py",
   "mimetype": "text/x-python",
   "name": "python",
   "nbconvert_exporter": "python",
   "pygments_lexer": "ipython3",
   "version": "3.9.0"
  }
 },
 "nbformat": 4,
 "nbformat_minor": 5
}
